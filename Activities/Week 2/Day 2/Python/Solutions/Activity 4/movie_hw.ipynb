{
  "nbformat": 4,
  "nbformat_minor": 0,
  "metadata": {
    "colab": {
      "provenance": []
    },
    "kernelspec": {
      "name": "python3",
      "display_name": "Python 3"
    },
    "language_info": {
      "name": "python"
    }
  },
  "cells": [
    {
      "cell_type": "code",
      "execution_count": 2,
      "metadata": {
        "id": "vamDMklXj-oE"
      },
      "outputs": [],
      "source": [
        "import pickle\n",
        "with open('movie_nested_dict.pickle', 'rb') as file:\n",
        "    movie_db = pickle.load(file)"
      ]
    },
    {
      "cell_type": "code",
      "source": [
        "def search_genre(genre):\n",
        "    title = []\n",
        "    for k,v in movie_db.items():\n",
        "        if v['Genre'] != [None]:\n",
        "            for g in v['Genre']:\n",
        "                if g.lstrip().upper() == genre.upper():\n",
        "                    title.append(k)\n",
        "    print(f\"There are {len(title)} movies for {genre} Genre.\")\n",
        "\n",
        "    if len(title) > 0:\n",
        "        print(\"Here are some movies you might enjoy: \\n \")\n",
        "        for i, t in enumerate(title):\n",
        "            print(f\"{i+1}. {t}\")\n",
        "    else:\n",
        "         print(\"No Results Found\")"
      ],
      "metadata": {
        "id": "e9kk2qMHkSot"
      },
      "execution_count": 3,
      "outputs": []
    },
    {
      "cell_type": "code",
      "source": [
        "def search_title(title):\n",
        "    for m in movie_db.keys():\n",
        "        tmp = m.upper()\n",
        "        title = title.upper()\n",
        "        if tmp.find(title) > -1:\n",
        "            print('#'*30)\n",
        "            print(f\"Movie Title: {m}\")\n",
        "            print(f\"Genre: {movie_db[m]['Genre']}\")\n",
        "            print(f\"Year: {movie_db[m]['Released_Year']}\")\n",
        "            print(f\"Director: {movie_db[m]['Director']}\")\n",
        "            print(f\"Actors: {movie_db[m]['Actors']}\")"
      ],
      "metadata": {
        "id": "EnvvzBYMkeYZ"
      },
      "execution_count": 6,
      "outputs": []
    },
    {
      "cell_type": "code",
      "source": [
        "def search_rating(rating):\n",
        "    title = []\n",
        "    for k,v in movie_db.items():\n",
        "        if v['Rating'] == rating:\n",
        "            title.append(k)\n",
        "    print(f\"There are {len(title)} movies with {rating} rating.\")\n",
        "\n",
        "    if len(title) > 0:\n",
        "        print(\"Here are some movies you might enjoy: \\n \")\n",
        "        for i, t in enumerate(title):\n",
        "            print(f\"{i+1}. {t}\")\n",
        "    else:\n",
        "         print(\"No Results Found\")"
      ],
      "metadata": {
        "id": "3l1jVuBCkgc3"
      },
      "execution_count": 5,
      "outputs": []
    },
    {
      "cell_type": "code",
      "source": [
        "def search_year(year):\n",
        "    title = []\n",
        "    for k,v in movie_db.items():\n",
        "        if v['Released_Year'] == year:\n",
        "            title.append(k)\n",
        "    print(f\"There are {len(title)} movies released in {year}.\")\n",
        "\n",
        "    if len(title) > 0:\n",
        "        print(\"Here are some movies you might enjoy: \\n \")\n",
        "        for i, t in enumerate(title):\n",
        "            print(f\"{i+1}. {t}\")\n",
        "    else:\n",
        "         print(\"No Results Found\")"
      ],
      "metadata": {
        "id": "_y-PlPoSkh5I"
      },
      "execution_count": 7,
      "outputs": []
    },
    {
      "cell_type": "code",
      "source": [
        "def add_movie(title, rating, director, year, actors, genre):\n",
        "    rating = None if len(rating) == 0 else rating\n",
        "    director = None if len(director) == 0 else director\n",
        "    year = None if len(year) == 0 else year\n",
        "    actors = None if len(actors) == 0 else actors\n",
        "    genre = None if len(genre) == 0 else genre\n",
        "\n",
        "    record = {\n",
        "        'Rating': rating,\n",
        "        'Director': director,\n",
        "        'Released_Year': year,\n",
        "        'Actors': actors,\n",
        "        'Genre': [genre],\n",
        "    }\n",
        "    movie_db[title] = record\n",
        "    print('Movie added')"
      ],
      "metadata": {
        "id": "SZTKQhOokmbp"
      },
      "execution_count": 8,
      "outputs": []
    },
    {
      "cell_type": "code",
      "source": [
        "if __name__==\"__main__\":\n",
        "\n",
        "    selection = int(input('''\n",
        "        Select a choice (1 - 5):\n",
        "        1. Search by Genre\n",
        "        2. Search by Movie Title\n",
        "        3. Search by Rating\n",
        "        4. Search by Year\n",
        "        5. Add a Movie\n",
        "\n",
        "        Enter: '''))\n",
        "\n",
        "    # calls the specific function based on user selection\n",
        "\n",
        "    if selection == 1:\n",
        "        # Searching by Genre\n",
        "        sub_selection = input('Enter Genre: ')\n",
        "        search_genre(sub_selection)\n",
        "\n",
        "\n",
        "    elif selection == 2:\n",
        "        # Searching by Text in Title (with a loop)\n",
        "        sub_selection = None\n",
        "\n",
        "        while sub_selection != 'EXIT':\n",
        "            sub_selection = input(\"\"\"\n",
        "            Enter Movie Title to Search.\n",
        "            Else type 'EXIT' to terminate\n",
        "\n",
        "            Title Search: \"\"\")\n",
        "\n",
        "            movies = search_title(sub_selection)\n",
        "\n",
        "    elif selection == 3:\n",
        "        # Searching by Rating\n",
        "        rating = input('Enter a Rating (ex. 8.0, 8.3): ')\n",
        "        try:\n",
        "            rating = float(rating)\n",
        "            search_rating(rating)\n",
        "        except:\n",
        "            print('Rating needs to be numeric')\n",
        "\n",
        "\n",
        "    elif selection == 4:\n",
        "        # Searching by Year\n",
        "        year = input('Enter a Movie Year (ex: 1993, 2002): ')\n",
        "        search_year(year)\n",
        "\n",
        "\n",
        "    elif selection == 5:\n",
        "        # Add a new Movie\n",
        "        mov_title = input('Enter a Movie Title: ')\n",
        "        mov_genre = input('Enter a Genre: ')\n",
        "        mov_rating = input('Enter a Movie Rating: ')\n",
        "        mov_director = input('Enter a Movie Director: ')\n",
        "        mov_year = input('Enter Movie Year: ')\n",
        "        mov_actors = input(\"Enter Actors e.g. ['A. Smith', 'Tom Cruise', 'Jennifer W']: \")\n",
        "\n",
        "\n",
        "        if len(mov_title) == 0:\n",
        "            while len(mov_title) == 0 or title == 'EXIT':\n",
        "                print('Title Cannot be Empty. Please try again. To stop type \"EXIT\"')\n",
        "                mov_title = input('Enter a Movie Title: ')\n",
        "\n",
        "        if mov_title != 'EXIT':\n",
        "            add_movie(mov_title, mov_rating, mov_director, mov_year, mov_actors, mov_genre)"
      ],
      "metadata": {
        "colab": {
          "base_uri": "https://localhost:8080/"
        },
        "id": "c2B9oaJRkpD2",
        "outputId": "26bed2fd-9e50-4711-d654-c4eecf12d0cf"
      },
      "execution_count": 10,
      "outputs": [
        {
          "name": "stdout",
          "output_type": "stream",
          "text": [
            "\n",
            "        Select a choice (1 - 5):\n",
            "        1. Search by Genre\n",
            "        2. Search by Movie Title\n",
            "        3. Search by Rating\n",
            "        4. Search by Year\n",
            "        5. Add a Movie\n",
            "\n",
            "        Enter: 2\n",
            "\n",
            "            Enter Movie Title to Search. \n",
            "            Else type 'EXIT' to terminate\n",
            "\n",
            "            Title Search: happy\n",
            "##############################\n",
            "Movie Title: The Pursuit of Happyness\n",
            "Genre: ['Biography', ' Drama']\n",
            "Year: 2006\n",
            "Director: Gabriele Muccino\n",
            "Actors: ['Will Smith', ' Thandie Newton', ' Jaden Smith', ' Brian Howe']\n",
            "\n",
            "            Enter Movie Title to Search. \n",
            "            Else type 'EXIT' to terminate\n",
            "\n",
            "            Title Search: sad\n",
            "##############################\n",
            "Movie Title: Indiana Jones and the Last Crusade\n",
            "Genre: ['Action', ' Adventure']\n",
            "Year: 1989\n",
            "Director: Steven Spielberg\n",
            "Actors: ['Harrison Ford', ' Sean Connery', ' Alison Doody', ' Denholm Elliott']\n",
            "##############################\n",
            "Movie Title: Blazing Saddles\n",
            "Genre: ['Comedy', ' Western']\n",
            "Year: 1974\n",
            "Director: Mel Brooks\n",
            "Actors: ['Cleavon Little', ' Gene Wilder', ' Slim Pickens', ' Harvey Korman']\n",
            "\n",
            "            Enter Movie Title to Search. \n",
            "            Else type 'EXIT' to terminate\n",
            "\n",
            "            Title Search: exit\n",
            "\n",
            "            Enter Movie Title to Search. \n",
            "            Else type 'EXIT' to terminate\n",
            "\n",
            "            Title Search: fast\n",
            "##############################\n",
            "Movie Title: The World's Fastest Indian\n",
            "Genre: ['Biography', ' Drama', ' Sport']\n",
            "Year: 2005\n",
            "Director: Roger Donaldson\n",
            "Actors: ['Anthony Hopkins', ' Diane Ladd', ' Iain Rea', ' Tessa Mitchell']\n",
            "##############################\n",
            "Movie Title: The Breakfast Club\n",
            "Genre: ['Comedy', ' Drama']\n",
            "Year: 1985\n",
            "Director: John Hughes\n",
            "Actors: ['Emilio Estevez', ' Judd Nelson', ' Molly Ringwald', ' Ally Sheedy']\n",
            "##############################\n",
            "Movie Title: Breakfast at Tiffany's\n",
            "Genre: ['Comedy', ' Drama', ' Romance']\n",
            "Year: 1961\n",
            "Director: Blake Edwards\n",
            "Actors: ['Audrey Hepburn', ' George Peppard', ' Patricia Neal', ' Buddy Ebsen']\n",
            "\n",
            "            Enter Movie Title to Search. \n",
            "            Else type 'EXIT' to terminate\n",
            "\n",
            "            Title Search: EXIT\n"
          ]
        }
      ]
    },
    {
      "cell_type": "code",
      "source": [],
      "metadata": {
        "id": "L8SV0CCHkq7W"
      },
      "execution_count": null,
      "outputs": []
    }
  ]
}